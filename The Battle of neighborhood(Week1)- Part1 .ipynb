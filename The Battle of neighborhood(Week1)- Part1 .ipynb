{
 "cells": [
  {
   "cell_type": "markdown",
   "metadata": {},
   "source": [
    "# <b>The Battle of Neighborhood : Week 1</b>\n",
    "## <b>Introduction/Business Problem:</b>"
   ]
  },
  {
   "cell_type": "markdown",
   "metadata": {},
   "source": [
    "### <b>'Ideal location to open Children Indoor Play Center in the Greater Melbourne'</b>\n",
    "***"
   ]
  },
  {
   "cell_type": "markdown",
   "metadata": {},
   "source": [
    "#### <b>Background</b>\n",
    "Melbourne metropolitan or Greater Melbourne is the second-most populous city in Australia and the capital of the State of Victoria. The city is extended to 9,993 km2 consisting of 31 municipalities also known as Local government area (LGA) or city councils. This vibrant and multi-cultural city is the home to 5 million population. It is also the sports capital of Australia. It hosts major annual international sports events such as the Australian Open, the Melbourne Cup, and the Australian Grand Prix. Melbourne is highly rated for entertainment, tourism, and sport. It is also a research and education hub of Australia. Melbourne is ranked in the top 10 world’s most livable city for a decade. That’s why the city attracts thousands of migrants from around the world annually. So, the city becomes the major economic hub of Australia and an important financial center of the world.\n",
    "\n",
    "Melbourne is the fastest growing city in Australia, ahead of Sydney due to more affordable housing and cost of living. The growing population brings more business opportunities to fulfill the needs of the citizens. The city major economy includes finance, manufacturing, research, IT, education, transportation, and tourism. It attracts many more businesses into the market. With the opportunities there come the competition and risk in the business. So, Market analysis is extremely important to start new business ventures. Data-driven decision-making practice allows one to make a smart choice, reduce risk, and develop a profitable business. \n"
   ]
  },
  {
   "cell_type": "markdown",
   "metadata": {},
   "source": [
    "#### <b>Business Problem or Idea Description:</b>\n",
    "When thinking about the business idea in the context of the fastest-growing city like Melbourne, the first thing that strikes in my mind is the rapid change in the landscape and construction work happening everywhere in the city. Exponentially growing traffic consuming a major amount of people’s time in commute to the workplace, meaning less time left for kids and family. Especially it is very challenging for parents with the kids to balance between family and work. Physical activities, entertainment, and socialization are important parts of children's growth. So, every parent is keen to take their kids to park or playground and spend some quality time with them. They are looking for a community park and entertainment center which is easily accessible so that they can maximize the utilization of their spare time.\n",
    "\n",
    "Indoor play centers are becoming popular in the Greater Melbourne communities, especially among the parents who have toddlers and young kids. Since, indoor playground facilities are safer and can be utilized in any weather condition, parents love to bring their children and letting them have fun and be happy. So, for someone who loves kids or passionate about making children happy, starting an indoor play center that can assure safety, affordability, and entertaining can be an ideal business choice. As with any business to survive and earn profit in a competitive environment, a detailed market study is essential. \n",
    "\n",
    "Besides, basic preparation to start a business, finding a strategic location is the most important part to open a successful business. We must analyze various factors before selecting a location that includes:\n",
    "1.\tPopulation distribution in the city \n",
    "2.\tSegmentation of LGA\n",
    "3.\tGreater Melbourne Demographics\n",
    "4.\tNumber of Household with young children in each council\n",
    "5.\tAvailability of indoor playground venues near the residential location\n",
    "6.\tLocation feasibility\n",
    "7.\tCompetitors in the market, etc.\n",
    "\n",
    "#### <b>Target Audience:</b>\n",
    "The outcome of this project should be beneficial to anyone, who is thinking about starting a new business that focuses on children or wanting to expand the already established indoor play center at a new location. As a Data scientist my objective is to locate and recommend an ideal location in the neighborhood of the Greater Melbourne area to start a new indoor Play Center. In this project we will analyze children's population density of each city council, availability of indoor playground facilities in the neighborhood, and identify the possible location where the demand is higher for children play center.\n"
   ]
  },
  {
   "cell_type": "markdown",
   "metadata": {},
   "source": []
  }
 ],
 "metadata": {
  "kernelspec": {
   "display_name": "Python",
   "language": "python",
   "name": "conda-env-python-py"
  },
  "language_info": {
   "codemirror_mode": {
    "name": "ipython",
    "version": 3
   },
   "file_extension": ".py",
   "mimetype": "text/x-python",
   "name": "python",
   "nbconvert_exporter": "python",
   "pygments_lexer": "ipython3",
   "version": "3.6.10"
  }
 },
 "nbformat": 4,
 "nbformat_minor": 4
}

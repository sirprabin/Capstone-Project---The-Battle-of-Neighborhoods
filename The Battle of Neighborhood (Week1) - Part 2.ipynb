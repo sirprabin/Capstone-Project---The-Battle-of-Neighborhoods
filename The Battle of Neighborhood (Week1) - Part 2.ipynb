{
 "cells": [
  {
   "cell_type": "markdown",
   "metadata": {},
   "source": [
    "# <b>The Battle of Neighborhood : Week 1</b>\n",
    "## <b>Data:</b>\n",
    "\n",
    "The Greater Melbourne population and demographics data will be analyzed in this project. We will be using the following datasets to determine the demand for the indoor play center for young children, who are aged between 0 to 15 years.\n",
    "\n",
    "#### <b>Data1:</b>\n",
    "Greater Melbourne has 31 Local Government Area (LGA) or city councils. To understand the distribution of children population and segment the neighborhoods, we essentially need a dataset that contains the 31 LGA, latitude/Longitude coordinates of LGA, and area. Unfortunately, I am unable to find the online dataset that contains Lat/Long coordinates for each LGA of the Greater Melbourne area. So, to extract the coordinates first we need to get the boundary map of the LGA of Greater Melbourne, which can be downloaded from the Australian Bureau of Statistics (ABS) website.\n",
    "\n",
    "Link to the website: https://itt.abs.gov.au/itt/r.jsp?ABSMaps\n",
    "\n",
    "Local Government Areas ASGS ED 2016 Digital Boundaries data will be downloaded in ESRI shapefile format. The dataset contains the entire LGA of Australia, but we are only interested in LGA of Greater Melbourne. So, to extract only the LGA of Greater Melbourne we will clean the dataset using QGIS software. Then, use the analysis tool in QGIS to calculate the centroid of each LGA polygonal area, which enables us to extract the geographic coordinate information. The outcome will look like the table below.\n",
    "\n",
    "|LGA_CODE|LGA_NAME|State|AREASQKM16|xcoord|ycoord|\n",
    "|:--------:|:--------:|:-----:|:----------:|:------:|:------:|\n",
    "|20660|Banyule (C)|Victoria|62.5402|145.0851|-37.7304|\n",
    "|20910|Bayside (C)|Victoria|37.2111|145.0182|-37.9418|\n",
    "|21110|Boroondara (C)|Victoria|60.1774|145.0631|-37.8193|\n",
    "|21180|Brimbank (C)|Victoria|123.3991|144.8033|-37.7476|\n",
    "|21450|Cardinia (S)|Victoria|1282.5678|145.5727|-38.083|\n",
    "|21610|Casey (C)|Victoria|409.4289|145.309|-38.1044|\n",
    "\n",
    "#### <b>Data 2:</b>\n",
    "Similarly, for the Greater Melbourne population Statistics that includes the total number of children in each LGA or the number of households with young children in each LGA we will use the 2016 census data of Australia available in the Australian Bureau of Statistics (ABS) website. Note that Australian census data are available in every five-year interval since the latest census was acquired in 2016, we have to rely on that dataset.\n",
    "\n",
    "Link to the website: http://stat.data.abs.gov.au/#\n",
    "\n",
    "We need to clean the dataset that only shows the population information of the Greater Melbourne area. We will be using Python code in JupyterLab for cleaning the dataset. We can also use an excel spreadsheet if need to facilitate the data cleaning process. The outcome should look like the following table.\n",
    "\n",
    "|LGA_NAME|LGA_CODE|State|Total|Age (0-15)|Age (16-24)|Age (25-40)|Age (41-65)|Age (66 above)|\n",
    "|:--------:|:--------:|:-----:|:-----:|:----------:|:-----------:|:-----------:|:-----------:|:--------------:|\n",
    "|Banyule (C)|20660|Victoria|121865|23260|12990|26676|39036|19903|\n",
    "|Bayside (C)|20910|Victoria|97087|19678|9836|14479|35518|17576|\n",
    "|Boroondara (C)|21110|Victoria|167231|31098|22956|34362|53597|25218|\n",
    "|Brimbank (C)|21180|Victoria|194319|38216|25072|47319|59321|24391|\n",
    "|Cardinia (S)|21450|Victoria|94128|23032|10868|21536|28289|10403|\n",
    "|Casey (C)|21610|Victoria|299301|71957|37517|71794|89633|28400|\n",
    "\n",
    "The next step will be to merge or join ‘Data 1’ and ‘Data 2’, Then the final dataframe will be used for statistical analysis and developing a choropleth map of Greater Melbourne.\n",
    "\n",
    "#### <b>Data 3:</b>\n",
    "Finally, the geographical coordinates data of Greater Melbourne obtain from ‘Data 1’ will be utilized as input for the Foursquare API, which will help to get venue information for each neighborhood. We will use the Foursquare API to explore neighborhoods in the Melbourne area that can influence the location for an indoor play center. For example, exploring shopping malls in the neighborhood, where the flow of family hangout is higher during the weekend. Similarly, explore the number of indoor play centers that are already established in the neighborhood. Then, plot the venue's cluster display along with a choropleth map that shows the population distribution in each LGA or city council. This analysis should help to visualize the spatial location that shows high demand for the indoor children play center. \n"
   ]
  },
  {
   "cell_type": "markdown",
   "metadata": {},
   "source": []
  }
 ],
 "metadata": {
  "kernelspec": {
   "display_name": "Python",
   "language": "python",
   "name": "conda-env-python-py"
  },
  "language_info": {
   "codemirror_mode": {
    "name": "ipython",
    "version": 3
   },
   "file_extension": ".py",
   "mimetype": "text/x-python",
   "name": "python",
   "nbconvert_exporter": "python",
   "pygments_lexer": "ipython3",
   "version": "3.6.10"
  }
 },
 "nbformat": 4,
 "nbformat_minor": 4
}
